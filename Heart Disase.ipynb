{
 "cells": [
  {
   "cell_type": "markdown",
   "id": "516de36a-d773-486d-8053-37eb8489cfe1",
   "metadata": {},
   "source": [
    "# Required libraries"
   ]
  },
  {
   "cell_type": "code",
   "execution_count": 5,
   "id": "39322b27-7f70-45d0-b8cc-5d7a5ea5ea10",
   "metadata": {},
   "outputs": [],
   "source": [
    "import pandas as pd\n",
    "from sklearn.model_selection import train_test_split, cross_val_score, GridSearchCV\n",
    "from sklearn.preprocessing import LabelEncoder, StandardScaler\n",
    "from sklearn.metrics import mean_squared_error, mean_absolute_error, accuracy_score, precision_score, recall_score, f1_score, confusion_matrix, classification_report\n",
    "from sklearn.linear_model import LinearRegression\n",
    "from sklearn.neighbors import KNeighborsRegressor, KNeighborsClassifier\n",
    "from sklearn.tree import DecisionTreeRegressor\n",
    "from sklearn.ensemble import RandomForestRegressor, RandomForestClassifier\n",
    "import numpy as np\n",
    "import warnings\n",
    "import seaborn as sns\n",
    "import matplotlib.pyplot as plt\n"
   ]
  },
  {
   "cell_type": "markdown",
   "id": "dd6ace68-2bfe-496e-b166-9000c10ad710",
   "metadata": {},
   "source": [
    "# Display Settings and Ignoring Warnings"
   ]
  },
  {
   "cell_type": "code",
   "execution_count": 6,
   "id": "0c3adc81-e5aa-49cf-9fe2-230bfc141868",
   "metadata": {},
   "outputs": [],
   "source": [
    "warnings.filterwarnings(\"ignore\")\n",
    "\n",
    "# Display settings\n",
    "pd.set_option('display.max_columns', None)\n",
    "pd.set_option('display.width', None)\n",
    "pd.set_option('display.float_format', lambda x: '%.3f' % x)"
   ]
  },
  {
   "cell_type": "markdown",
   "id": "49d62c71-e4ce-446f-8575-374b814a98fa",
   "metadata": {},
   "source": [
    "# Data Frame Overview"
   ]
  },
  {
   "cell_type": "code",
   "execution_count": 7,
   "id": "a269c867-c46f-4e44-98d7-739220d4ccdc",
   "metadata": {},
   "outputs": [],
   "source": [
    "def check_df(dataframe, head=5):\n",
    "    print(\"###### Shape ######\")\n",
    "    print(dataframe.shape)\n",
    "    print(\"\\n###### Types ######\")\n",
    "    print(dataframe.dtypes)\n",
    "    print(\"\\n###### Head ######\")\n",
    "    print(dataframe.head(head))\n",
    "    print(\"\\n###### Tail ######\")\n",
    "    print(dataframe.tail(head))\n",
    "    print(\"\\n###### NaN ######\")\n",
    "    print(dataframe.isnull().sum())\n",
    "    print(\"\\n###### Quantiles ######\")\n",
    "    print(dataframe.describe().T)"
   ]
  },
  {
   "cell_type": "markdown",
   "id": "e84d44d2-0aee-4412-a731-b486c3899e71",
   "metadata": {},
   "source": [
    "# Reading Data Set"
   ]
  },
  {
   "cell_type": "code",
   "execution_count": 8,
   "id": "1550413a-800e-4f51-b09e-6ec3329f71b1",
   "metadata": {},
   "outputs": [
    {
     "data": {
      "text/html": [
       "<div>\n",
       "<style scoped>\n",
       "    .dataframe tbody tr th:only-of-type {\n",
       "        vertical-align: middle;\n",
       "    }\n",
       "\n",
       "    .dataframe tbody tr th {\n",
       "        vertical-align: top;\n",
       "    }\n",
       "\n",
       "    .dataframe thead th {\n",
       "        text-align: right;\n",
       "    }\n",
       "</style>\n",
       "<table border=\"1\" class=\"dataframe\">\n",
       "  <thead>\n",
       "    <tr style=\"text-align: right;\">\n",
       "      <th></th>\n",
       "      <th>Unnamed: 0</th>\n",
       "      <th>age</th>\n",
       "      <th>sex</th>\n",
       "      <th>cp</th>\n",
       "      <th>trestbps</th>\n",
       "      <th>chol</th>\n",
       "      <th>fbs</th>\n",
       "      <th>restecg</th>\n",
       "      <th>thalach</th>\n",
       "      <th>exang</th>\n",
       "      <th>oldpeak</th>\n",
       "      <th>slope</th>\n",
       "      <th>ca</th>\n",
       "      <th>thal</th>\n",
       "      <th>target</th>\n",
       "    </tr>\n",
       "  </thead>\n",
       "  <tbody>\n",
       "    <tr>\n",
       "      <th>0</th>\n",
       "      <td>0</td>\n",
       "      <td>62</td>\n",
       "      <td>0</td>\n",
       "      <td>0</td>\n",
       "      <td>160</td>\n",
       "      <td>203</td>\n",
       "      <td>0</td>\n",
       "      <td>0</td>\n",
       "      <td>140</td>\n",
       "      <td>0</td>\n",
       "      <td>0.100</td>\n",
       "      <td>1</td>\n",
       "      <td>0</td>\n",
       "      <td>3</td>\n",
       "      <td>1</td>\n",
       "    </tr>\n",
       "    <tr>\n",
       "      <th>1</th>\n",
       "      <td>1</td>\n",
       "      <td>43</td>\n",
       "      <td>1</td>\n",
       "      <td>2</td>\n",
       "      <td>122</td>\n",
       "      <td>193</td>\n",
       "      <td>0</td>\n",
       "      <td>1</td>\n",
       "      <td>149</td>\n",
       "      <td>1</td>\n",
       "      <td>1.000</td>\n",
       "      <td>0</td>\n",
       "      <td>0</td>\n",
       "      <td>3</td>\n",
       "      <td>1</td>\n",
       "    </tr>\n",
       "    <tr>\n",
       "      <th>2</th>\n",
       "      <td>2</td>\n",
       "      <td>42</td>\n",
       "      <td>1</td>\n",
       "      <td>1</td>\n",
       "      <td>140</td>\n",
       "      <td>318</td>\n",
       "      <td>0</td>\n",
       "      <td>1</td>\n",
       "      <td>161</td>\n",
       "      <td>0</td>\n",
       "      <td>1.400</td>\n",
       "      <td>1</td>\n",
       "      <td>0</td>\n",
       "      <td>2</td>\n",
       "      <td>1</td>\n",
       "    </tr>\n",
       "    <tr>\n",
       "      <th>3</th>\n",
       "      <td>3</td>\n",
       "      <td>40</td>\n",
       "      <td>1</td>\n",
       "      <td>1</td>\n",
       "      <td>120</td>\n",
       "      <td>160</td>\n",
       "      <td>0</td>\n",
       "      <td>0</td>\n",
       "      <td>103</td>\n",
       "      <td>1</td>\n",
       "      <td>0.000</td>\n",
       "      <td>1</td>\n",
       "      <td>0</td>\n",
       "      <td>2</td>\n",
       "      <td>0</td>\n",
       "    </tr>\n",
       "    <tr>\n",
       "      <th>4</th>\n",
       "      <td>4</td>\n",
       "      <td>43</td>\n",
       "      <td>1</td>\n",
       "      <td>2</td>\n",
       "      <td>120</td>\n",
       "      <td>204</td>\n",
       "      <td>0</td>\n",
       "      <td>1</td>\n",
       "      <td>168</td>\n",
       "      <td>1</td>\n",
       "      <td>3.400</td>\n",
       "      <td>2</td>\n",
       "      <td>1</td>\n",
       "      <td>2</td>\n",
       "      <td>1</td>\n",
       "    </tr>\n",
       "    <tr>\n",
       "      <th>...</th>\n",
       "      <td>...</td>\n",
       "      <td>...</td>\n",
       "      <td>...</td>\n",
       "      <td>...</td>\n",
       "      <td>...</td>\n",
       "      <td>...</td>\n",
       "      <td>...</td>\n",
       "      <td>...</td>\n",
       "      <td>...</td>\n",
       "      <td>...</td>\n",
       "      <td>...</td>\n",
       "      <td>...</td>\n",
       "      <td>...</td>\n",
       "      <td>...</td>\n",
       "      <td>...</td>\n",
       "    </tr>\n",
       "    <tr>\n",
       "      <th>223645</th>\n",
       "      <td>223645</td>\n",
       "      <td>58</td>\n",
       "      <td>1</td>\n",
       "      <td>0</td>\n",
       "      <td>125</td>\n",
       "      <td>258</td>\n",
       "      <td>0</td>\n",
       "      <td>0</td>\n",
       "      <td>160</td>\n",
       "      <td>1</td>\n",
       "      <td>0.000</td>\n",
       "      <td>2</td>\n",
       "      <td>2</td>\n",
       "      <td>2</td>\n",
       "      <td>0</td>\n",
       "    </tr>\n",
       "    <tr>\n",
       "      <th>223646</th>\n",
       "      <td>223646</td>\n",
       "      <td>51</td>\n",
       "      <td>0</td>\n",
       "      <td>0</td>\n",
       "      <td>134</td>\n",
       "      <td>313</td>\n",
       "      <td>0</td>\n",
       "      <td>0</td>\n",
       "      <td>145</td>\n",
       "      <td>1</td>\n",
       "      <td>0.000</td>\n",
       "      <td>1</td>\n",
       "      <td>0</td>\n",
       "      <td>2</td>\n",
       "      <td>1</td>\n",
       "    </tr>\n",
       "    <tr>\n",
       "      <th>223647</th>\n",
       "      <td>223647</td>\n",
       "      <td>48</td>\n",
       "      <td>0</td>\n",
       "      <td>0</td>\n",
       "      <td>130</td>\n",
       "      <td>236</td>\n",
       "      <td>0</td>\n",
       "      <td>1</td>\n",
       "      <td>125</td>\n",
       "      <td>0</td>\n",
       "      <td>0.000</td>\n",
       "      <td>2</td>\n",
       "      <td>0</td>\n",
       "      <td>2</td>\n",
       "      <td>0</td>\n",
       "    </tr>\n",
       "    <tr>\n",
       "      <th>223648</th>\n",
       "      <td>223648</td>\n",
       "      <td>59</td>\n",
       "      <td>1</td>\n",
       "      <td>0</td>\n",
       "      <td>112</td>\n",
       "      <td>243</td>\n",
       "      <td>1</td>\n",
       "      <td>1</td>\n",
       "      <td>173</td>\n",
       "      <td>0</td>\n",
       "      <td>0.000</td>\n",
       "      <td>1</td>\n",
       "      <td>0</td>\n",
       "      <td>3</td>\n",
       "      <td>1</td>\n",
       "    </tr>\n",
       "    <tr>\n",
       "      <th>223649</th>\n",
       "      <td>223649</td>\n",
       "      <td>54</td>\n",
       "      <td>0</td>\n",
       "      <td>2</td>\n",
       "      <td>130</td>\n",
       "      <td>284</td>\n",
       "      <td>1</td>\n",
       "      <td>1</td>\n",
       "      <td>88</td>\n",
       "      <td>0</td>\n",
       "      <td>0.800</td>\n",
       "      <td>1</td>\n",
       "      <td>0</td>\n",
       "      <td>2</td>\n",
       "      <td>1</td>\n",
       "    </tr>\n",
       "  </tbody>\n",
       "</table>\n",
       "<p>223650 rows × 15 columns</p>\n",
       "</div>"
      ],
      "text/plain": [
       "        Unnamed: 0  age  sex  cp  trestbps  chol  fbs  restecg  thalach  \\\n",
       "0                0   62    0   0       160   203    0        0      140   \n",
       "1                1   43    1   2       122   193    0        1      149   \n",
       "2                2   42    1   1       140   318    0        1      161   \n",
       "3                3   40    1   1       120   160    0        0      103   \n",
       "4                4   43    1   2       120   204    0        1      168   \n",
       "...            ...  ...  ...  ..       ...   ...  ...      ...      ...   \n",
       "223645      223645   58    1   0       125   258    0        0      160   \n",
       "223646      223646   51    0   0       134   313    0        0      145   \n",
       "223647      223647   48    0   0       130   236    0        1      125   \n",
       "223648      223648   59    1   0       112   243    1        1      173   \n",
       "223649      223649   54    0   2       130   284    1        1       88   \n",
       "\n",
       "        exang  oldpeak  slope  ca  thal  target  \n",
       "0           0    0.100      1   0     3       1  \n",
       "1           1    1.000      0   0     3       1  \n",
       "2           0    1.400      1   0     2       1  \n",
       "3           1    0.000      1   0     2       0  \n",
       "4           1    3.400      2   1     2       1  \n",
       "...       ...      ...    ...  ..   ...     ...  \n",
       "223645      1    0.000      2   2     2       0  \n",
       "223646      1    0.000      1   0     2       1  \n",
       "223647      0    0.000      2   0     2       0  \n",
       "223648      0    0.000      1   0     3       1  \n",
       "223649      0    0.800      1   0     2       1  \n",
       "\n",
       "[223650 rows x 15 columns]"
      ]
     },
     "execution_count": 8,
     "metadata": {},
     "output_type": "execute_result"
    }
   ],
   "source": [
    "df = pd.read_csv(\"heart.csv\")\n",
    "df"
   ]
  },
  {
   "cell_type": "markdown",
   "id": "d8229f51-9542-4903-a9a2-061a6622ec12",
   "metadata": {},
   "source": [
    "# Identify Categorical and Numerical Columns"
   ]
  },
  {
   "cell_type": "code",
   "execution_count": 9,
   "id": "b91cf7d2-304a-470f-b2c8-c7310168b72d",
   "metadata": {},
   "outputs": [],
   "source": [
    "def grab_col_names(dataframe, cat_th=10, car_th=20):\n",
    "    cat_cols = [col for col in dataframe.columns if dataframe[col].dtypes == \"O\"]\n",
    "    num_but_cat = [col for col in dataframe.columns if dataframe[col].nunique() < cat_th and dataframe[col].dtypes != \"O\"]\n",
    "    cat_but_car = [col for col in dataframe.columns if dataframe[col].nunique() > car_th and dataframe[col].dtypes == \"O\"]\n",
    "\n",
    "    cat_cols = cat_cols + num_but_cat\n",
    "    cat_cols = [col for col in cat_cols if col not in cat_but_car]\n",
    "    num_cols = [col for col in dataframe.columns if dataframe[col].dtypes != \"O\" and col not in num_but_cat]\n",
    "\n",
    "    print(f\"Observations: {dataframe.shape[0]}\")\n",
    "    print(f\"Variables: {dataframe.shape[1]}\")\n",
    "    print(f'cat_cols: {len(cat_cols)}')\n",
    "    print(f'num_cols: {len(num_cols)}')\n",
    "    print(f'cat_but_car: {len(cat_but_car)}')\n",
    "    print(f'num_but_cat: {len(num_but_cat)}')\n",
    "\n",
    "    return cat_cols, cat_but_car, num_cols"
   ]
  },
  {
   "cell_type": "code",
   "execution_count": 10,
   "id": "d3ffc070-202c-47d5-bed2-9361d5bab753",
   "metadata": {},
   "outputs": [
    {
     "name": "stdout",
     "output_type": "stream",
     "text": [
      "Observations: 223650\n",
      "Variables: 15\n",
      "cat_cols: 9\n",
      "num_cols: 6\n",
      "cat_but_car: 0\n",
      "num_but_cat: 9\n"
     ]
    }
   ],
   "source": [
    "cat_cols, cat_but_car, num_cols = grab_col_names(df)"
   ]
  },
  {
   "cell_type": "markdown",
   "id": "fa3c8d5a-633c-4330-a540-d1188e21d5bf",
   "metadata": {},
   "source": [
    "# Initializing Label Encoder and Standard Scaler"
   ]
  },
  {
   "cell_type": "code",
   "execution_count": 11,
   "id": "dde382d6-56da-4452-b88c-b23a2c9252cb",
   "metadata": {},
   "outputs": [],
   "source": [
    "le = LabelEncoder()\n",
    "scaler = StandardScaler()"
   ]
  },
  {
   "cell_type": "markdown",
   "id": "370a4a02-8b90-4ebb-809a-2114893e2650",
   "metadata": {},
   "source": [
    "# Defining Categorical and Numeric Features"
   ]
  },
  {
   "cell_type": "code",
   "execution_count": 12,
   "id": "f9fe76a7-d29f-49da-b7b3-7753c13e74c8",
   "metadata": {},
   "outputs": [],
   "source": [
    "categorical_features = ['sex', 'cp', 'fbs', 'restecg', 'exang', 'slope', 'ca', 'thal'] \n",
    "numeric_features = ['age', 'trestbps', 'chol', 'thalach', 'oldpeak'] "
   ]
  },
  {
   "cell_type": "markdown",
   "id": "68f820f8-2266-48d9-aa05-c83adfb94ed1",
   "metadata": {},
   "source": [
    "# Encoding Categorical Features and Scaling Numeric Features"
   ]
  },
  {
   "cell_type": "code",
   "execution_count": 13,
   "id": "a0783bdf-24c1-42a1-a918-226d8b30cfc0",
   "metadata": {},
   "outputs": [],
   "source": [
    "df[categorical_features] = df[categorical_features].apply(le.fit_transform)\n",
    "df[numeric_features] = scaler.fit_transform(df[numeric_features])"
   ]
  },
  {
   "cell_type": "markdown",
   "id": "5f86bee1-0019-47fe-b5d8-8de1089724d6",
   "metadata": {},
   "source": [
    "# Separating Target Variable"
   ]
  },
  {
   "cell_type": "code",
   "execution_count": 14,
   "id": "0e60301c-74a6-4631-8e54-c1dbab6861e9",
   "metadata": {},
   "outputs": [],
   "source": [
    "X = df.drop('target', axis=1)\n",
    "y = df['target']"
   ]
  },
  {
   "cell_type": "markdown",
   "id": "24f7a71b-5148-4c7a-8a4a-eb333392365c",
   "metadata": {},
   "source": [
    "# Splitting Data into Training and Testing Sets for Model Evaluation"
   ]
  },
  {
   "cell_type": "code",
   "execution_count": 15,
   "id": "97e4c036-3ae5-4b37-8813-180686bd98d7",
   "metadata": {},
   "outputs": [],
   "source": [
    "X_train, X_test, y_train, y_test = train_test_split(X, y, test_size=0.2, random_state=42)"
   ]
  },
  {
   "cell_type": "markdown",
   "id": "bbb62c59-ad62-46d5-9396-0fc0ba963ec8",
   "metadata": {},
   "source": [
    "# List of Regression Models for Comparison"
   ]
  },
  {
   "cell_type": "code",
   "execution_count": 16,
   "id": "3a519716-ac86-47c1-bf7f-79c0df2cf1e5",
   "metadata": {},
   "outputs": [],
   "source": [
    "models = [('LinearRegression', LinearRegression()),\n",
    "          ('KNeighborsRegressor', KNeighborsRegressor()),\n",
    "          ('DecisionTreeRegressor', DecisionTreeRegressor()),\n",
    "          ('RandomForestRegressor', RandomForestRegressor(random_state=42))]"
   ]
  },
  {
   "cell_type": "markdown",
   "id": "9884b4a3-174e-4865-a4cf-81216f7333f2",
   "metadata": {},
   "source": [
    "# Training and Evaluating Regression Models Using RMSE and MAE Metrics"
   ]
  },
  {
   "cell_type": "code",
   "execution_count": null,
   "id": "4f870c79-d692-4a48-ad5c-ba69183a2534",
   "metadata": {},
   "outputs": [],
   "source": [
    "for name, regressor in models:\n",
    "    regressor.fit(X_train, y_train)\n",
    "    y_pred = regressor.predict(X_test)\n",
    "    \n",
    "    rmse = np.sqrt(mean_squared_error(y_test, y_pred))\n",
    "    mae = mean_absolute_error(y_test, y_pred)\n",
    "    \n",
    "    print(f\"{name} - RMSE: {round(rmse, 4)}, MAE: {round(mae, 4)}\")"
   ]
  },
  {
   "cell_type": "markdown",
   "id": "6ef2e4c2-03fe-4396-85be-1ce9b5ba5056",
   "metadata": {},
   "source": [
    "# Training and Evaluating Classification Models Using Performance Metrics"
   ]
  },
  {
   "cell_type": "code",
   "execution_count": null,
   "id": "19ec8416-8ecf-430d-8e43-aa35ed412ded",
   "metadata": {},
   "outputs": [],
   "source": [
    "classification_models = [('KNeighborsClassifier', KNeighborsClassifier()),\n",
    "                         ('RandomForestClassifier', RandomForestClassifier(random_state=42))]\n",
    "\n",
    "for name, classifier in classification_models:\n",
    "    classifier.fit(X_train, y_train)\n",
    "    y_pred = classifier.predict(X_test)\n",
    "    \n",
    "    accuracy = accuracy_score(y_test, y_pred)\n",
    "    precision = precision_score(y_test, y_pred)\n",
    "    recall = recall_score(y_test, y_pred)\n",
    "    f1 = f1_score(y_test, y_pred)\n",
    "    conf_matrix = confusion_matrix(y_test, y_pred)\n",
    "    \n",
    "    print(f\"\\n{name} - Accuracy: {round(accuracy, 4)}, Precision: {round(precision, 4)}, Recall: {round(recall, 4)}, F1 Score: {round(f1, 4)}\")\n",
    "    print(f\"Confusion Matrix:\\n{conf_matrix}\")\n",
    "    print(classification_report(y_test, y_pred))"
   ]
  },
  {
   "cell_type": "code",
   "execution_count": null,
   "id": "b0f38d02-86b3-450a-a90c-f82a42de7c8b",
   "metadata": {},
   "outputs": [],
   "source": []
  }
 ],
 "metadata": {
  "kernelspec": {
   "display_name": "Python 3 (ipykernel)",
   "language": "python",
   "name": "python3"
  },
  "language_info": {
   "codemirror_mode": {
    "name": "ipython",
    "version": 3
   },
   "file_extension": ".py",
   "mimetype": "text/x-python",
   "name": "python",
   "nbconvert_exporter": "python",
   "pygments_lexer": "ipython3",
   "version": "3.12.3"
  }
 },
 "nbformat": 4,
 "nbformat_minor": 5
}
